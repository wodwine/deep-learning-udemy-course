{
 "cells": [
  {
   "cell_type": "code",
   "execution_count": 1,
   "id": "polar-maintenance",
   "metadata": {},
   "outputs": [],
   "source": [
    "import tensorflow as tf\n",
    "from tensorflow.keras.preprocessing.image import ImageDataGenerator"
   ]
  },
  {
   "cell_type": "code",
   "execution_count": 2,
   "id": "supported-rotation",
   "metadata": {},
   "outputs": [
    {
     "name": "stdout",
     "output_type": "stream",
     "text": [
      "Found 8000 images belonging to 2 classes.\n"
     ]
    }
   ],
   "source": [
    "# Preprocessing on train set\n",
    "train_datagen = ImageDataGenerator(rescale = 1./255,\n",
    "                                   shear_range = 0.2,\n",
    "                                   zoom_range = 0.2,\n",
    "                                   horizontal_flip = True)\n",
    "training_set = train_datagen.flow_from_directory('dataset/training_set',\n",
    "                                                 target_size = (64, 64),\n",
    "                                                 batch_size = 32,\n",
    "                                                 class_mode = 'binary')"
   ]
  },
  {
   "cell_type": "code",
   "execution_count": 3,
   "id": "excited-treasure",
   "metadata": {},
   "outputs": [
    {
     "name": "stdout",
     "output_type": "stream",
     "text": [
      "Found 2000 images belonging to 2 classes.\n"
     ]
    }
   ],
   "source": [
    "# Preprocessing on test set\n",
    "test_datagen = ImageDataGenerator(rescale = 1./255)\n",
    "test_set = test_datagen.flow_from_directory('dataset/test_set',\n",
    "                                            target_size = (64, 64),\n",
    "                                            batch_size = 32,\n",
    "                                            class_mode = 'binary')"
   ]
  },
  {
   "cell_type": "code",
   "execution_count": 4,
   "id": "hired-blast",
   "metadata": {},
   "outputs": [],
   "source": [
    "# Create the CNN model\n",
    "cnn = tf.keras.models.Sequential()\n",
    "cnn.add(tf.keras.layers.Conv2D(filters=32,kernel_size=3,activation=\"relu\",input_shape=(64,64,3))) # 1. Convolution\n",
    "cnn.add(tf.keras.layers.MaxPool2D(pool_size=2,strides=2)) # 2. Pooling 1\n",
    "cnn.add(tf.keras.layers.Conv2D(filters=32,kernel_size=3,activation=\"relu\"))\n",
    "cnn.add(tf.keras.layers.MaxPool2D(pool_size=2,strides=2))\n",
    "cnn.add(tf.keras.layers.Flatten()) # 3. Flatten\n",
    "cnn.add(tf.keras.layers.Dense(units=128,activation=\"relu\")) # 4. Full connection\n",
    "cnn.add(tf.keras.layers.Dense(units=1,activation=\"sigmoid\")) # 5. Output layer\n",
    "cnn.compile(optimizer=\"adam\",loss=\"binary_crossentropy\",metrics=[\"accuracy\"]) # Compile the CNN model"
   ]
  },
  {
   "cell_type": "code",
   "execution_count": 5,
   "id": "quiet-humor",
   "metadata": {},
   "outputs": [
    {
     "name": "stdout",
     "output_type": "stream",
     "text": [
      "Epoch 1/25\n",
      "250/250 [==============================] - 46s 182ms/step - loss: 0.7150 - accuracy: 0.5210 - val_loss: 0.6560 - val_accuracy: 0.6185\n",
      "Epoch 2/25\n",
      "250/250 [==============================] - 47s 187ms/step - loss: 0.6363 - accuracy: 0.6381 - val_loss: 0.6065 - val_accuracy: 0.6645\n",
      "Epoch 3/25\n",
      "250/250 [==============================] - 49s 196ms/step - loss: 0.5754 - accuracy: 0.7006 - val_loss: 0.5443 - val_accuracy: 0.7280\n",
      "Epoch 4/25\n",
      "250/250 [==============================] - 50s 201ms/step - loss: 0.5545 - accuracy: 0.7191 - val_loss: 0.5206 - val_accuracy: 0.7450\n",
      "Epoch 5/25\n",
      "250/250 [==============================] - 49s 196ms/step - loss: 0.5140 - accuracy: 0.7405 - val_loss: 0.5124 - val_accuracy: 0.7490\n",
      "Epoch 6/25\n",
      "250/250 [==============================] - 51s 204ms/step - loss: 0.5029 - accuracy: 0.7549 - val_loss: 0.5087 - val_accuracy: 0.7545\n",
      "Epoch 7/25\n",
      "250/250 [==============================] - 45s 181ms/step - loss: 0.4792 - accuracy: 0.7723 - val_loss: 0.4767 - val_accuracy: 0.7755\n",
      "Epoch 8/25\n",
      "250/250 [==============================] - 46s 182ms/step - loss: 0.4547 - accuracy: 0.7847 - val_loss: 0.4840 - val_accuracy: 0.7705\n",
      "Epoch 9/25\n",
      "250/250 [==============================] - 41s 164ms/step - loss: 0.4522 - accuracy: 0.7863 - val_loss: 0.4572 - val_accuracy: 0.7830\n",
      "Epoch 10/25\n",
      "250/250 [==============================] - 43s 170ms/step - loss: 0.4266 - accuracy: 0.8098 - val_loss: 0.4573 - val_accuracy: 0.7895\n",
      "Epoch 11/25\n",
      "250/250 [==============================] - 44s 174ms/step - loss: 0.4188 - accuracy: 0.8069 - val_loss: 0.4655 - val_accuracy: 0.7940\n",
      "Epoch 12/25\n",
      "250/250 [==============================] - 42s 170ms/step - loss: 0.4014 - accuracy: 0.8136 - val_loss: 0.4429 - val_accuracy: 0.8005\n",
      "Epoch 13/25\n",
      "250/250 [==============================] - 46s 183ms/step - loss: 0.4003 - accuracy: 0.8191 - val_loss: 0.4328 - val_accuracy: 0.8020\n",
      "Epoch 14/25\n",
      "250/250 [==============================] - 46s 184ms/step - loss: 0.3927 - accuracy: 0.8215 - val_loss: 0.4474 - val_accuracy: 0.8000\n",
      "Epoch 15/25\n",
      "250/250 [==============================] - 44s 177ms/step - loss: 0.3792 - accuracy: 0.8278 - val_loss: 0.4376 - val_accuracy: 0.8085\n",
      "Epoch 16/25\n",
      "250/250 [==============================] - 47s 186ms/step - loss: 0.3578 - accuracy: 0.8420 - val_loss: 0.4550 - val_accuracy: 0.8045\n",
      "Epoch 17/25\n",
      "250/250 [==============================] - 48s 191ms/step - loss: 0.3693 - accuracy: 0.8327 - val_loss: 0.4296 - val_accuracy: 0.8070\n",
      "Epoch 18/25\n",
      "250/250 [==============================] - 49s 196ms/step - loss: 0.3401 - accuracy: 0.8509 - val_loss: 0.4257 - val_accuracy: 0.8030\n",
      "Epoch 19/25\n",
      "250/250 [==============================] - 47s 188ms/step - loss: 0.3512 - accuracy: 0.8384 - val_loss: 0.4405 - val_accuracy: 0.8075\n",
      "Epoch 20/25\n",
      "250/250 [==============================] - 50s 199ms/step - loss: 0.3212 - accuracy: 0.8605 - val_loss: 0.5074 - val_accuracy: 0.7865\n",
      "Epoch 21/25\n",
      "250/250 [==============================] - 52s 207ms/step - loss: 0.3451 - accuracy: 0.8428 - val_loss: 0.4469 - val_accuracy: 0.8095\n",
      "Epoch 22/25\n",
      "250/250 [==============================] - 47s 188ms/step - loss: 0.3082 - accuracy: 0.8642 - val_loss: 0.4437 - val_accuracy: 0.8155\n",
      "Epoch 23/25\n",
      "250/250 [==============================] - 51s 203ms/step - loss: 0.3089 - accuracy: 0.8643 - val_loss: 0.4474 - val_accuracy: 0.8055\n",
      "Epoch 24/25\n",
      "250/250 [==============================] - 51s 206ms/step - loss: 0.2868 - accuracy: 0.8800 - val_loss: 0.4687 - val_accuracy: 0.8055\n",
      "Epoch 25/25\n",
      "250/250 [==============================] - 48s 193ms/step - loss: 0.2776 - accuracy: 0.8809 - val_loss: 0.4690 - val_accuracy: 0.8015\n"
     ]
    },
    {
     "data": {
      "text/plain": [
       "<tensorflow.python.keras.callbacks.History at 0x7fb18fb32250>"
      ]
     },
     "execution_count": 5,
     "metadata": {},
     "output_type": "execute_result"
    }
   ],
   "source": [
    "cnn.fit(x=training_set,validation_data=test_set,epochs=25)"
   ]
  },
  {
   "cell_type": "code",
   "execution_count": 6,
   "id": "nuclear-tutorial",
   "metadata": {},
   "outputs": [],
   "source": [
    "# Make a prediction on a single test\n",
    "import numpy as np\n",
    "from tensorflow.keras.preprocessing import image\n",
    "\n",
    "test_img_1 = image.load_img(\"dataset/single_prediction/cat_or_dog_3.jpg\",target_size=(64,64)) # Load the picture\n",
    "test_img_1 = image.img_to_array(test_img_1) # Transform picture to array\n",
    "test_img_1 = np.expand_dims(test_img_1,axis=0) # Add another dimension for batch\n",
    "result = cnn.predict(test_img_1) # Predict with the model"
   ]
  },
  {
   "cell_type": "code",
   "execution_count": 7,
   "id": "promotional-bridge",
   "metadata": {},
   "outputs": [
    {
     "data": {
      "text/plain": [
       "{'cats': 0, 'dogs': 1}"
      ]
     },
     "execution_count": 7,
     "metadata": {},
     "output_type": "execute_result"
    }
   ],
   "source": [
    "training_set.class_indices"
   ]
  },
  {
   "cell_type": "code",
   "execution_count": 8,
   "id": "decimal-tumor",
   "metadata": {},
   "outputs": [
    {
     "name": "stdout",
     "output_type": "stream",
     "text": [
      "Dog\n"
     ]
    }
   ],
   "source": [
    "if result[0][0]==0:\n",
    "    print(\"Cat\")\n",
    "else:\n",
    "    print(\"Dog\")"
   ]
  },
  {
   "cell_type": "code",
   "execution_count": null,
   "id": "mineral-rolling",
   "metadata": {},
   "outputs": [],
   "source": []
  }
 ],
 "metadata": {
  "kernelspec": {
   "display_name": "Python 3",
   "language": "python",
   "name": "python3"
  },
  "language_info": {
   "codemirror_mode": {
    "name": "ipython",
    "version": 3
   },
   "file_extension": ".py",
   "mimetype": "text/x-python",
   "name": "python",
   "nbconvert_exporter": "python",
   "pygments_lexer": "ipython3",
   "version": "3.8.5"
  }
 },
 "nbformat": 4,
 "nbformat_minor": 5
}
