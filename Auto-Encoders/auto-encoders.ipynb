{
 "cells": [
  {
   "cell_type": "code",
   "execution_count": 2,
   "id": "adopted-subdivision",
   "metadata": {},
   "outputs": [],
   "source": [
    "import numpy as np\n",
    "import pandas as pd\n",
    "import torch\n",
    "import torch.nn as nn\n",
    "import torch.nn.parallel\n",
    "import torch.optim as optim\n",
    "import torch.utils.data\n",
    "from torch.autograd import Variable"
   ]
  },
  {
   "cell_type": "code",
   "execution_count": 3,
   "id": "latter-thanks",
   "metadata": {},
   "outputs": [],
   "source": [
    "movies = pd.read_csv(\"data/ml-1m/movies.dat\",sep = \"::\",header=None,engine=\"python\",encoding=\"latin-1\")\n",
    "movies.columns = [\"MovieID\",\"MovieName\",\"Genre\"]"
   ]
  },
  {
   "cell_type": "code",
   "execution_count": 4,
   "id": "complimentary-hebrew",
   "metadata": {},
   "outputs": [],
   "source": [
    "ratings = pd.read_csv(\"data/ml-1m/ratings.dat\",sep = \"::\",header=None,engine=\"python\",encoding=\"latin-1\")\n",
    "ratings.columns = [\"UserID\",\"MovieID\",\"Rating\",\"Timestamp\"]"
   ]
  },
  {
   "cell_type": "code",
   "execution_count": 5,
   "id": "pending-proxy",
   "metadata": {},
   "outputs": [],
   "source": [
    "users = pd.read_csv(\"data/ml-1m/users.dat\",sep = \"::\",header=None,engine=\"python\",encoding=\"latin-1\")\n",
    "users.columns = [\"UserID\",\"Sex\",\"Age\",\"JobsCode\",\"ZipCode\"]"
   ]
  },
  {
   "cell_type": "code",
   "execution_count": 6,
   "id": "modern-cleveland",
   "metadata": {},
   "outputs": [
    {
     "data": {
      "text/plain": [
       "array([[        1,         2,         3, 876893171],\n",
       "       [        1,         3,         4, 878542960],\n",
       "       [        1,         4,         3, 876893119],\n",
       "       ...,\n",
       "       [      943,      1188,         3, 888640250],\n",
       "       [      943,      1228,         3, 888640275],\n",
       "       [      943,      1330,         3, 888692465]])"
      ]
     },
     "execution_count": 6,
     "metadata": {},
     "output_type": "execute_result"
    }
   ],
   "source": [
    "training_set = pd.read_csv(\"data/ml-100k/u1.base\",delimiter=\"\\t\")\n",
    "training_set = np.array(training_set,dtype='int')\n",
    "training_set"
   ]
  },
  {
   "cell_type": "code",
   "execution_count": 7,
   "id": "assigned-relaxation",
   "metadata": {},
   "outputs": [
    {
     "data": {
      "text/plain": [
       "array([[        1,        10,         3, 875693118],\n",
       "       [        1,        12,         5, 878542960],\n",
       "       [        1,        14,         5, 874965706],\n",
       "       ...,\n",
       "       [      459,       934,         3, 879563639],\n",
       "       [      460,        10,         3, 882912371],\n",
       "       [      462,       682,         5, 886365231]])"
      ]
     },
     "execution_count": 7,
     "metadata": {},
     "output_type": "execute_result"
    }
   ],
   "source": [
    "test_set = pd.read_csv(\"data/ml-100k/u1.test\",delimiter=\"\\t\")\n",
    "test_set = np.array(test_set,dtype='int')\n",
    "test_set"
   ]
  },
  {
   "cell_type": "code",
   "execution_count": 8,
   "id": "eleven-texas",
   "metadata": {},
   "outputs": [
    {
     "data": {
      "text/plain": [
       "(943, 1682)"
      ]
     },
     "execution_count": 8,
     "metadata": {},
     "output_type": "execute_result"
    }
   ],
   "source": [
    "nb_users = int(max(max(training_set[:, 0], ), max(test_set[:, 0])))\n",
    "nb_movies = int(max(max(training_set[:, 1], ), max(test_set[:, 1])))\n",
    "nb_users,nb_movies"
   ]
  },
  {
   "cell_type": "code",
   "execution_count": 9,
   "id": "closing-isaac",
   "metadata": {},
   "outputs": [],
   "source": [
    "def convert(data):\n",
    "    new_data = []\n",
    "    for id_users in range(1, nb_users + 1):\n",
    "        id_movies = data[:, 1][data[:, 0] == id_users]\n",
    "        id_ratings = data[:, 2][data[:, 0] == id_users]\n",
    "        ratings = np.zeros(nb_movies)\n",
    "        ratings[id_movies - 1] = id_ratings\n",
    "        new_data.append(list(ratings))\n",
    "    return new_data"
   ]
  },
  {
   "cell_type": "code",
   "execution_count": 10,
   "id": "owned-disabled",
   "metadata": {
    "scrolled": false
   },
   "outputs": [],
   "source": [
    "training_set = convert(training_set)\n",
    "test_set = convert(test_set)"
   ]
  },
  {
   "cell_type": "code",
   "execution_count": 11,
   "id": "bright-brick",
   "metadata": {},
   "outputs": [],
   "source": [
    "training_set = torch.FloatTensor(training_set)\n",
    "test_set = torch.FloatTensor(test_set)"
   ]
  },
  {
   "cell_type": "code",
   "execution_count": 22,
   "id": "understanding-sheet",
   "metadata": {},
   "outputs": [],
   "source": [
    "class SAE(nn.Module):\n",
    "    def __init__(self, ):\n",
    "        super(SAE, self).__init__()\n",
    "        self.fc1 = nn.Linear(nb_movies, 20)\n",
    "        self.fc2 = nn.Linear(20, 10)\n",
    "        self.fc3 = nn.Linear(10, 20)\n",
    "        self.fc4 = nn.Linear(20, nb_movies)\n",
    "        self.activation = nn.Sigmoid()\n",
    "        \n",
    "    def forward(self, x):\n",
    "        x = self.activation(self.fc1(x))\n",
    "        x = self.activation(self.fc2(x))\n",
    "        x = self.activation(self.fc3(x))\n",
    "        x = self.fc4(x)\n",
    "        return x\n",
    "    \n",
    "    def fit(self):\n",
    "        nb_epoch = 200\n",
    "        for epoch in range(1, nb_epoch + 1):\n",
    "            train_loss = 0\n",
    "            s = 0.\n",
    "            for id_user in range(nb_users):\n",
    "                input = Variable(training_set[id_user]).unsqueeze(0)\n",
    "                target = input.clone()\n",
    "                if torch.sum(target.data > 0) > 0:\n",
    "                    output = self(input)\n",
    "                    target.require_grad = False\n",
    "                    output[target == 0] = 0\n",
    "                    loss = criterion(output, target)\n",
    "                    mean_corrector = nb_movies/float(torch.sum(target.data > 0) + 1e-10)\n",
    "                    loss.backward()\n",
    "                    train_loss += np.sqrt(loss.data*mean_corrector)\n",
    "                    s += 1.\n",
    "                    optimizer.step()\n",
    "            print('epoch: '+str(epoch)+'loss: '+ str(train_loss/s))\n",
    "    \n",
    "    def test(self):\n",
    "        test_loss = 0\n",
    "        s = 0.\n",
    "        for id_user in range(nb_users):\n",
    "            input = Variable(training_set[id_user]).unsqueeze(0)\n",
    "            target = Variable(test_set[id_user]).unsqueeze(0)\n",
    "            if torch.sum(target.data > 0) > 0:\n",
    "                output = sae(input)\n",
    "                target.require_grad = False\n",
    "                output[target == 0] = 0\n",
    "                loss = criterion(output, target)\n",
    "                mean_corrector = nb_movies/float(torch.sum(target.data > 0) + 1e-10)\n",
    "                test_loss += np.sqrt(loss.data*mean_corrector)\n",
    "                s += 1.\n",
    "        print('test loss: '+str(test_loss/s))"
   ]
  },
  {
   "cell_type": "code",
   "execution_count": 24,
   "id": "furnished-deficit",
   "metadata": {},
   "outputs": [
    {
     "name": "stdout",
     "output_type": "stream",
     "text": [
      "epoch: 1loss: tensor(1.7711)\n",
      "epoch: 2loss: tensor(1.0966)\n",
      "epoch: 3loss: tensor(1.0533)\n",
      "epoch: 4loss: tensor(1.0383)\n",
      "epoch: 5loss: tensor(1.0307)\n",
      "epoch: 6loss: tensor(1.0266)\n",
      "epoch: 7loss: tensor(1.0238)\n",
      "epoch: 8loss: tensor(1.0221)\n",
      "epoch: 9loss: tensor(1.0208)\n",
      "epoch: 10loss: tensor(1.0198)\n",
      "epoch: 11loss: tensor(1.0189)\n",
      "epoch: 12loss: tensor(1.0185)\n",
      "epoch: 13loss: tensor(1.0179)\n",
      "epoch: 14loss: tensor(1.0176)\n",
      "epoch: 15loss: tensor(1.0171)\n",
      "epoch: 16loss: tensor(1.0168)\n",
      "epoch: 17loss: tensor(1.0166)\n",
      "epoch: 18loss: tensor(1.0167)\n",
      "epoch: 19loss: tensor(1.0163)\n",
      "epoch: 20loss: tensor(1.0162)\n",
      "epoch: 21loss: tensor(1.0159)\n",
      "epoch: 22loss: tensor(1.0158)\n",
      "epoch: 23loss: tensor(1.0158)\n",
      "epoch: 24loss: tensor(1.0159)\n",
      "epoch: 25loss: tensor(1.0158)\n",
      "epoch: 26loss: tensor(1.0156)\n",
      "epoch: 27loss: tensor(1.0155)\n",
      "epoch: 28loss: tensor(1.0149)\n",
      "epoch: 29loss: tensor(1.0131)\n",
      "epoch: 30loss: tensor(1.0117)\n",
      "epoch: 31loss: tensor(1.0098)\n",
      "epoch: 32loss: tensor(1.0079)\n",
      "epoch: 33loss: tensor(1.0074)\n",
      "epoch: 34loss: tensor(1.0042)\n",
      "epoch: 35loss: tensor(1.0041)\n",
      "epoch: 36loss: tensor(1.0012)\n",
      "epoch: 37loss: tensor(0.9993)\n",
      "epoch: 38loss: tensor(0.9983)\n",
      "epoch: 39loss: tensor(0.9974)\n",
      "epoch: 40loss: tensor(0.9943)\n",
      "epoch: 41loss: tensor(0.9920)\n",
      "epoch: 42loss: tensor(0.9907)\n",
      "epoch: 43loss: tensor(0.9909)\n",
      "epoch: 44loss: tensor(0.9880)\n",
      "epoch: 45loss: tensor(0.9875)\n",
      "epoch: 46loss: tensor(0.9816)\n",
      "epoch: 47loss: tensor(0.9808)\n",
      "epoch: 48loss: tensor(0.9792)\n",
      "epoch: 49loss: tensor(0.9774)\n",
      "epoch: 50loss: tensor(0.9789)\n",
      "epoch: 51loss: tensor(0.9770)\n",
      "epoch: 52loss: tensor(0.9737)\n",
      "epoch: 53loss: tensor(0.9721)\n",
      "epoch: 54loss: tensor(0.9708)\n",
      "epoch: 55loss: tensor(0.9682)\n",
      "epoch: 56loss: tensor(0.9700)\n",
      "epoch: 57loss: tensor(0.9684)\n",
      "epoch: 58loss: tensor(0.9626)\n",
      "epoch: 59loss: tensor(0.9661)\n",
      "epoch: 60loss: tensor(0.9660)\n",
      "epoch: 61loss: tensor(0.9634)\n",
      "epoch: 62loss: tensor(0.9606)\n",
      "epoch: 63loss: tensor(0.9605)\n",
      "epoch: 64loss: tensor(0.9561)\n",
      "epoch: 65loss: tensor(0.9582)\n",
      "epoch: 66loss: tensor(0.9566)\n",
      "epoch: 67loss: tensor(0.9584)\n",
      "epoch: 68loss: tensor(0.9563)\n",
      "epoch: 69loss: tensor(0.9560)\n",
      "epoch: 70loss: tensor(0.9538)\n",
      "epoch: 71loss: tensor(0.9569)\n",
      "epoch: 72loss: tensor(0.9584)\n",
      "epoch: 73loss: tensor(0.9593)\n",
      "epoch: 74loss: tensor(0.9539)\n",
      "epoch: 75loss: tensor(0.9543)\n",
      "epoch: 76loss: tensor(0.9506)\n",
      "epoch: 77loss: tensor(0.9525)\n",
      "epoch: 78loss: tensor(0.9501)\n",
      "epoch: 79loss: tensor(0.9492)\n",
      "epoch: 80loss: tensor(0.9483)\n",
      "epoch: 81loss: tensor(0.9465)\n",
      "epoch: 82loss: tensor(0.9458)\n",
      "epoch: 83loss: tensor(0.9445)\n",
      "epoch: 84loss: tensor(0.9441)\n",
      "epoch: 85loss: tensor(0.9446)\n",
      "epoch: 86loss: tensor(0.9445)\n",
      "epoch: 87loss: tensor(0.9415)\n",
      "epoch: 88loss: tensor(0.9413)\n",
      "epoch: 89loss: tensor(0.9457)\n",
      "epoch: 90loss: tensor(0.9397)\n",
      "epoch: 91loss: tensor(0.9407)\n",
      "epoch: 92loss: tensor(0.9384)\n",
      "epoch: 93loss: tensor(0.9384)\n",
      "epoch: 94loss: tensor(0.9370)\n",
      "epoch: 95loss: tensor(0.9382)\n",
      "epoch: 96loss: tensor(0.9364)\n",
      "epoch: 97loss: tensor(0.9378)\n",
      "epoch: 98loss: tensor(0.9348)\n",
      "epoch: 99loss: tensor(0.9359)\n",
      "epoch: 100loss: tensor(0.9341)\n",
      "epoch: 101loss: tensor(0.9350)\n",
      "epoch: 102loss: tensor(0.9344)\n",
      "epoch: 103loss: tensor(0.9355)\n",
      "epoch: 104loss: tensor(0.9336)\n",
      "epoch: 105loss: tensor(0.9344)\n",
      "epoch: 106loss: tensor(0.9333)\n",
      "epoch: 107loss: tensor(0.9331)\n",
      "epoch: 108loss: tensor(0.9326)\n",
      "epoch: 109loss: tensor(0.9322)\n",
      "epoch: 110loss: tensor(0.9307)\n",
      "epoch: 111loss: tensor(0.9316)\n",
      "epoch: 112loss: tensor(0.9296)\n",
      "epoch: 113loss: tensor(0.9308)\n",
      "epoch: 114loss: tensor(0.9298)\n",
      "epoch: 115loss: tensor(0.9299)\n",
      "epoch: 116loss: tensor(0.9288)\n",
      "epoch: 117loss: tensor(0.9302)\n",
      "epoch: 118loss: tensor(0.9283)\n",
      "epoch: 119loss: tensor(0.9293)\n",
      "epoch: 120loss: tensor(0.9280)\n",
      "epoch: 121loss: tensor(0.9288)\n",
      "epoch: 122loss: tensor(0.9279)\n",
      "epoch: 123loss: tensor(0.9280)\n",
      "epoch: 124loss: tensor(0.9279)\n",
      "epoch: 125loss: tensor(0.9274)\n",
      "epoch: 126loss: tensor(0.9266)\n",
      "epoch: 127loss: tensor(0.9265)\n",
      "epoch: 128loss: tensor(0.9258)\n",
      "epoch: 129loss: tensor(0.9259)\n",
      "epoch: 130loss: tensor(0.9254)\n",
      "epoch: 131loss: tensor(0.9256)\n",
      "epoch: 132loss: tensor(0.9251)\n",
      "epoch: 133loss: tensor(0.9257)\n",
      "epoch: 134loss: tensor(0.9246)\n",
      "epoch: 135loss: tensor(0.9249)\n",
      "epoch: 136loss: tensor(0.9245)\n",
      "epoch: 137loss: tensor(0.9245)\n",
      "epoch: 138loss: tensor(0.9235)\n",
      "epoch: 139loss: tensor(0.9239)\n",
      "epoch: 140loss: tensor(0.9229)\n",
      "epoch: 141loss: tensor(0.9235)\n",
      "epoch: 142loss: tensor(0.9225)\n",
      "epoch: 143loss: tensor(0.9235)\n",
      "epoch: 144loss: tensor(0.9221)\n",
      "epoch: 145loss: tensor(0.9230)\n",
      "epoch: 146loss: tensor(0.9222)\n",
      "epoch: 147loss: tensor(0.9225)\n",
      "epoch: 148loss: tensor(0.9213)\n",
      "epoch: 149loss: tensor(0.9216)\n",
      "epoch: 150loss: tensor(0.9208)\n",
      "epoch: 151loss: tensor(0.9210)\n",
      "epoch: 152loss: tensor(0.9203)\n",
      "epoch: 153loss: tensor(0.9207)\n",
      "epoch: 154loss: tensor(0.9205)\n",
      "epoch: 155loss: tensor(0.9205)\n",
      "epoch: 156loss: tensor(0.9202)\n",
      "epoch: 157loss: tensor(0.9204)\n",
      "epoch: 158loss: tensor(0.9193)\n",
      "epoch: 159loss: tensor(0.9200)\n",
      "epoch: 160loss: tensor(0.9192)\n",
      "epoch: 161loss: tensor(0.9196)\n",
      "epoch: 162loss: tensor(0.9189)\n",
      "epoch: 163loss: tensor(0.9191)\n",
      "epoch: 164loss: tensor(0.9183)\n",
      "epoch: 165loss: tensor(0.9188)\n",
      "epoch: 166loss: tensor(0.9184)\n",
      "epoch: 167loss: tensor(0.9188)\n",
      "epoch: 168loss: tensor(0.9179)\n",
      "epoch: 169loss: tensor(0.9183)\n",
      "epoch: 170loss: tensor(0.9178)\n",
      "epoch: 171loss: tensor(0.9179)\n",
      "epoch: 172loss: tensor(0.9173)\n",
      "epoch: 173loss: tensor(0.9180)\n",
      "epoch: 174loss: tensor(0.9169)\n",
      "epoch: 175loss: tensor(0.9171)\n",
      "epoch: 176loss: tensor(0.9170)\n",
      "epoch: 177loss: tensor(0.9168)\n",
      "epoch: 178loss: tensor(0.9163)\n",
      "epoch: 179loss: tensor(0.9166)\n",
      "epoch: 180loss: tensor(0.9167)\n",
      "epoch: 181loss: tensor(0.9167)\n",
      "epoch: 182loss: tensor(0.9164)\n",
      "epoch: 183loss: tensor(0.9163)\n",
      "epoch: 184loss: tensor(0.9161)\n",
      "epoch: 185loss: tensor(0.9163)\n",
      "epoch: 186loss: tensor(0.9159)\n",
      "epoch: 187loss: tensor(0.9162)\n",
      "epoch: 188loss: tensor(0.9155)\n",
      "epoch: 189loss: tensor(0.9157)\n",
      "epoch: 190loss: tensor(0.9155)\n",
      "epoch: 191loss: tensor(0.9156)\n",
      "epoch: 192loss: tensor(0.9151)\n",
      "epoch: 193loss: tensor(0.9151)\n",
      "epoch: 194loss: tensor(0.9146)\n",
      "epoch: 195loss: tensor(0.9151)\n",
      "epoch: 196loss: tensor(0.9143)\n",
      "epoch: 197loss: tensor(0.9148)\n",
      "epoch: 198loss: tensor(0.9140)\n",
      "epoch: 199loss: tensor(0.9144)\n",
      "epoch: 200loss: tensor(0.9143)\n"
     ]
    }
   ],
   "source": [
    "sae = SAE()\n",
    "criterion = nn.MSELoss()\n",
    "optimizer = optim.RMSprop(sae.parameters(), lr = 0.01, weight_decay = 0.5)\n",
    "sae.fit()"
   ]
  },
  {
   "cell_type": "code",
   "execution_count": 25,
   "id": "beautiful-project",
   "metadata": {},
   "outputs": [
    {
     "name": "stdout",
     "output_type": "stream",
     "text": [
      "test loss: tensor(0.9507)\n"
     ]
    }
   ],
   "source": [
    "sae.test()"
   ]
  },
  {
   "cell_type": "code",
   "execution_count": null,
   "id": "current-contrast",
   "metadata": {},
   "outputs": [],
   "source": []
  }
 ],
 "metadata": {
  "kernelspec": {
   "display_name": "Python 3",
   "language": "python",
   "name": "python3"
  },
  "language_info": {
   "codemirror_mode": {
    "name": "ipython",
    "version": 3
   },
   "file_extension": ".py",
   "mimetype": "text/x-python",
   "name": "python",
   "nbconvert_exporter": "python",
   "pygments_lexer": "ipython3",
   "version": "3.8.5"
  }
 },
 "nbformat": 4,
 "nbformat_minor": 5
}
