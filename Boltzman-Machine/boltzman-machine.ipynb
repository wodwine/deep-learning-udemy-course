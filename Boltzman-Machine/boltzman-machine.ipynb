{
 "cells": [
  {
   "cell_type": "code",
   "execution_count": 1,
   "id": "adopted-subdivision",
   "metadata": {},
   "outputs": [],
   "source": [
    "import numpy as np\n",
    "import pandas as pd\n",
    "import torch\n",
    "import torch.nn as nn\n",
    "import torch.nn.parallel\n",
    "import torch.optim as optim\n",
    "import torch.utils.data\n",
    "from torch.autograd import Variable"
   ]
  },
  {
   "cell_type": "code",
   "execution_count": 2,
   "id": "latter-thanks",
   "metadata": {},
   "outputs": [],
   "source": [
    "movies = pd.read_csv(\"data/ml-1m/movies.dat\",sep = \"::\",header=None,engine=\"python\",encoding=\"latin-1\")\n",
    "movies.columns = [\"MovieID\",\"MovieName\",\"Genre\"]"
   ]
  },
  {
   "cell_type": "code",
   "execution_count": 3,
   "id": "complimentary-hebrew",
   "metadata": {},
   "outputs": [],
   "source": [
    "ratings = pd.read_csv(\"data/ml-1m/ratings.dat\",sep = \"::\",header=None,engine=\"python\",encoding=\"latin-1\")\n",
    "ratings.columns = [\"UserID\",\"MovieID\",\"Rating\",\"Timestamp\"]"
   ]
  },
  {
   "cell_type": "code",
   "execution_count": 4,
   "id": "pending-proxy",
   "metadata": {},
   "outputs": [],
   "source": [
    "users = pd.read_csv(\"data/ml-1m/users.dat\",sep = \"::\",header=None,engine=\"python\",encoding=\"latin-1\")\n",
    "users.columns = [\"UserID\",\"Sex\",\"Age\",\"JobsCode\",\"ZipCode\"]"
   ]
  },
  {
   "cell_type": "code",
   "execution_count": 5,
   "id": "modern-cleveland",
   "metadata": {},
   "outputs": [
    {
     "data": {
      "text/plain": [
       "array([[        1,         2,         3, 876893171],\n",
       "       [        1,         3,         4, 878542960],\n",
       "       [        1,         4,         3, 876893119],\n",
       "       ...,\n",
       "       [      943,      1188,         3, 888640250],\n",
       "       [      943,      1228,         3, 888640275],\n",
       "       [      943,      1330,         3, 888692465]])"
      ]
     },
     "execution_count": 5,
     "metadata": {},
     "output_type": "execute_result"
    }
   ],
   "source": [
    "training_set = pd.read_csv(\"data/ml-100k/u1.base\",delimiter=\"\\t\")\n",
    "training_set = np.array(training_set,dtype='int')\n",
    "training_set"
   ]
  },
  {
   "cell_type": "code",
   "execution_count": 6,
   "id": "assigned-relaxation",
   "metadata": {},
   "outputs": [
    {
     "data": {
      "text/plain": [
       "array([[        1,        10,         3, 875693118],\n",
       "       [        1,        12,         5, 878542960],\n",
       "       [        1,        14,         5, 874965706],\n",
       "       ...,\n",
       "       [      459,       934,         3, 879563639],\n",
       "       [      460,        10,         3, 882912371],\n",
       "       [      462,       682,         5, 886365231]])"
      ]
     },
     "execution_count": 6,
     "metadata": {},
     "output_type": "execute_result"
    }
   ],
   "source": [
    "test_set = pd.read_csv(\"data/ml-100k/u1.test\",delimiter=\"\\t\")\n",
    "test_set = np.array(test_set,dtype='int')\n",
    "test_set"
   ]
  },
  {
   "cell_type": "code",
   "execution_count": 7,
   "id": "eleven-texas",
   "metadata": {},
   "outputs": [
    {
     "data": {
      "text/plain": [
       "(943, 1682)"
      ]
     },
     "execution_count": 7,
     "metadata": {},
     "output_type": "execute_result"
    }
   ],
   "source": [
    "nb_users = int(max(max(training_set[:, 0], ), max(test_set[:, 0])))\n",
    "nb_movies = int(max(max(training_set[:, 1], ), max(test_set[:, 1])))\n",
    "nb_users,nb_movies"
   ]
  },
  {
   "cell_type": "code",
   "execution_count": 8,
   "id": "closing-isaac",
   "metadata": {},
   "outputs": [],
   "source": [
    "def convert(data):\n",
    "    new_data = []\n",
    "    for id_users in range(1, nb_users + 1):\n",
    "        id_movies = data[:, 1][data[:, 0] == id_users]\n",
    "        id_ratings = data[:, 2][data[:, 0] == id_users]\n",
    "        ratings = np.zeros(nb_movies)\n",
    "        ratings[id_movies - 1] = id_ratings\n",
    "        new_data.append(list(ratings))\n",
    "    return new_data"
   ]
  },
  {
   "cell_type": "code",
   "execution_count": 9,
   "id": "owned-disabled",
   "metadata": {
    "scrolled": false
   },
   "outputs": [],
   "source": [
    "training_set = convert(training_set)\n",
    "test_set = convert(test_set)"
   ]
  },
  {
   "cell_type": "code",
   "execution_count": 10,
   "id": "bright-brick",
   "metadata": {},
   "outputs": [],
   "source": [
    "training_set = torch.FloatTensor(training_set)\n",
    "test_set = torch.FloatTensor(test_set)"
   ]
  },
  {
   "cell_type": "code",
   "execution_count": 11,
   "id": "critical-peeing",
   "metadata": {},
   "outputs": [],
   "source": [
    "training_set[training_set==0] = -1\n",
    "training_set[training_set==1] = 0\n",
    "training_set[training_set==2] = 0\n",
    "training_set[training_set>=3] = 1"
   ]
  },
  {
   "cell_type": "code",
   "execution_count": 12,
   "id": "light-vienna",
   "metadata": {},
   "outputs": [],
   "source": [
    "test_set[test_set==0] = -1\n",
    "test_set[test_set==1] = 0\n",
    "test_set[test_set==2] = 0\n",
    "test_set[test_set>=3] = 1"
   ]
  },
  {
   "cell_type": "code",
   "execution_count": 13,
   "id": "coordinated-crash",
   "metadata": {},
   "outputs": [],
   "source": [
    "class RBM:\n",
    "    def __init__(self,nv,nh,batch_size,epochs):\n",
    "        \"\"\"\n",
    "        nv: number of visible nodes\n",
    "        nh: number of hidden nodes\n",
    "        \"\"\"\n",
    "        self.W = torch.randn(nh,nv)\n",
    "        self.a = torch.randn(1,nh)\n",
    "        self.b = torch.randn(1,nv)\n",
    "        self.nb_batch = batch_size\n",
    "        self.nb_epoch = epochs\n",
    "    \n",
    "    def sample_h(self,x):\n",
    "        wx = torch.mm(x,self.W.t())\n",
    "        activation = wx + self.a.expand_as(wx)\n",
    "        p_h_given_v = torch.sigmoid(activation)\n",
    "        return p_h_given_v, torch.bernoulli(p_h_given_v)\n",
    "    \n",
    "    def sample_v(self,y):\n",
    "        wy = torch.mm(y,self.W)\n",
    "        activation = wy+ self.b.expand_as(wy)\n",
    "        p_v_given_h = torch.sigmoid(activation)\n",
    "        return p_v_given_h, torch.bernoulli(p_v_given_h)\n",
    "    \n",
    "    def train(self,v0,vk,ph0,phk):\n",
    "        self.W+=(torch.mm(v0.t(),ph0)-torch.mm(vk.t(),phk)).t()\n",
    "        self.b+=torch.sum((v0-vk),0)\n",
    "        self.a+=torch.sum((ph0-phk),0)\n",
    "    \n",
    "    def fit(self,training_set):\n",
    "        for epoch in range(1, self.nb_epoch + 1):\n",
    "            train_loss = 0\n",
    "            s = 0.\n",
    "            for id_user in range(0, nb_users - batch_size, batch_size):\n",
    "                vk = training_set[id_user : id_user + batch_size]\n",
    "                v0 = training_set[id_user : id_user + batch_size]\n",
    "                ph0,_ = self.sample_h(v0)\n",
    "                for k in range(10):\n",
    "                    _,hk = self.sample_h(vk)\n",
    "                    _,vk = self.sample_v(hk)\n",
    "                    vk[v0<0] = v0[v0<0]\n",
    "                phk,_ = self.sample_h(vk)\n",
    "                self.train(v0, vk, ph0, phk)\n",
    "                train_loss += np.sqrt(torch.mean((v0[v0>=0] - vk[v0>=0])**2))\n",
    "                s += 1.\n",
    "            print('epoch: '+str(epoch)+' loss: '+str(train_loss/s))\n",
    "    \n",
    "    def test(self,training_set,test_set):\n",
    "        test_loss = 0\n",
    "        s = 0.\n",
    "        for id_user in range(nb_users):\n",
    "            v = training_set[id_user:id_user+1]\n",
    "            vt = test_set[id_user:id_user+1]\n",
    "            if len(vt[vt>=0]) > 0:\n",
    "                _,h = rbm.sample_h(v)\n",
    "                _,v = rbm.sample_v(h)\n",
    "                test_loss += np.sqrt(torch.mean((vt[vt>=0] - v[vt>=0])**2))\n",
    "                s += 1.\n",
    "        print('test loss: '+str(test_loss/s))"
   ]
  },
  {
   "cell_type": "code",
   "execution_count": 14,
   "id": "floral-indicator",
   "metadata": {},
   "outputs": [],
   "source": [
    "nv = len(training_set[0])\n",
    "nh = 100\n",
    "batch_size = 100\n",
    "epochs = 10"
   ]
  },
  {
   "cell_type": "code",
   "execution_count": 15,
   "id": "stable-comfort",
   "metadata": {},
   "outputs": [
    {
     "name": "stdout",
     "output_type": "stream",
     "text": [
      "epoch: 1 loss: tensor(0.5837)\n",
      "epoch: 2 loss: tensor(0.4857)\n",
      "epoch: 3 loss: tensor(0.4964)\n",
      "epoch: 4 loss: tensor(0.4985)\n",
      "epoch: 5 loss: tensor(0.4984)\n",
      "epoch: 6 loss: tensor(0.4963)\n",
      "epoch: 7 loss: tensor(0.4970)\n",
      "epoch: 8 loss: tensor(0.4970)\n",
      "epoch: 9 loss: tensor(0.4982)\n",
      "epoch: 10 loss: tensor(0.4958)\n"
     ]
    }
   ],
   "source": [
    "rbm = RBM(nv,nh,batch_size,epochs)\n",
    "rbm.fit(training_set)"
   ]
  },
  {
   "cell_type": "code",
   "execution_count": 16,
   "id": "equivalent-consistency",
   "metadata": {},
   "outputs": [
    {
     "name": "stdout",
     "output_type": "stream",
     "text": [
      "test loss: tensor(0.4759)\n"
     ]
    }
   ],
   "source": [
    "rbm.test(training_set,test_set)"
   ]
  },
  {
   "cell_type": "code",
   "execution_count": null,
   "id": "understanding-sheet",
   "metadata": {},
   "outputs": [],
   "source": []
  }
 ],
 "metadata": {
  "kernelspec": {
   "display_name": "Python 3",
   "language": "python",
   "name": "python3"
  },
  "language_info": {
   "codemirror_mode": {
    "name": "ipython",
    "version": 3
   },
   "file_extension": ".py",
   "mimetype": "text/x-python",
   "name": "python",
   "nbconvert_exporter": "python",
   "pygments_lexer": "ipython3",
   "version": "3.8.5"
  }
 },
 "nbformat": 4,
 "nbformat_minor": 5
}
